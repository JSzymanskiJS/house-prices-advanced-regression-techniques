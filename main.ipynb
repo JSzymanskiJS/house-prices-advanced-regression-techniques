{
 "cells": [
  {
   "cell_type": "code",
   "execution_count": 12,
   "metadata": {},
   "outputs": [],
   "source": [
    "import pandas as pd\n",
    "import numpy as np\n",
    "import tensorflow as tf\n",
    "from tensorflow import keras\n",
    "import seaborn as sn\n",
    "\n"
   ]
  },
  {
   "cell_type": "code",
   "execution_count": 13,
   "metadata": {},
   "outputs": [],
   "source": [
    "data_df = pd.read_csv(\"train.csv\")\n",
    "data_df.drop(\"Id\", axis=1, inplace=True)\n",
    "#Dropping rows because of my laziness ;)\n",
    "data_df.drop(index=1379, inplace=True) #One NaN in \"Electrical\"\n",
    "#print(data_df)"
   ]
  },
  {
   "cell_type": "code",
   "execution_count": 49,
   "metadata": {},
   "outputs": [],
   "source": [
    "wip_data_df = data_df.fillna(\n",
    "    {\"LotFrontage\": 0,\n",
    "    \"Alley\": \"ANoAccess\",\n",
    "    \"MasVnrType\": \"MVNotExist\",\n",
    "    \"MasVnrArea\": 0,\n",
    "    \"BsmtQual\": \"BNotExist\",\n",
    "    \"BsmtExposure\": \"BNotExist\",\n",
    "    \"BsmtFinType1\": \"BNotExist\",\n",
    "    \"BsmtFinSF1\": 0,\n",
    "    \"BsmtFinType2\": \"BNotExist\",\n",
    "    \"BsmtFinSF2\": 0,\n",
    "    \"BsmtUnfSF\": 0,\n",
    "    \"BsmtCond\": \"BNotExist\",\n",
    "    \"TotalBsmtSF\": 0,\n",
    "    \"FireplaceQu\": \"FPNotExist\",\n",
    "    \"GarageType\": \"GNotExist\",\n",
    "    \"GarageYrBlt\": 0,\n",
    "    \"GarageFinish\": \"GNotExist\",\n",
    "    \"GarageQual\": \"GNotExist\",\n",
    "    \"GarageCond\": \"GNotExist\",\n",
    "    \"PoolQC\": \"PNotExist\",\n",
    "    \"Fence\": \"FCNotExist\",\n",
    "    \"MiscFeature\": \"MCNotExist\"\n",
    "    })\n",
    "to_delete_dict = {\"BNotExist\": [\"BsmtExposure\", \"BsmtFinType1\", \"BsmtFinType2\",\"BsmtCond\"],\n",
    "             \"GNotExist\": [\"GarageFinish\", \"GarageQual\", \"GarageCond\"]}\n",
    "to_delete = set()\n",
    "for variable in to_delete_dict:\n",
    "    for name in to_delete_dict[variable]:\n",
    "        to_delete.add(name + \"_\" + variable)\n",
    "del to_delete_dict\n",
    "# print(to_delete)\n",
    "  "
   ]
  },
  {
   "cell_type": "code",
   "execution_count": 15,
   "metadata": {},
   "outputs": [
    {
     "name": "stdout",
     "output_type": "stream",
     "text": [
      "0\n"
     ]
    }
   ],
   "source": [
    "na = wip_data_df.isnull().sum()\n",
    "print(na.sum())\n",
    "del na"
   ]
  },
  {
   "cell_type": "code",
   "execution_count": 16,
   "metadata": {},
   "outputs": [],
   "source": [
    "data_strings = list(data_df.select_dtypes(\"object\").columns)\n",
    "#print(data_strings)"
   ]
  },
  {
   "cell_type": "code",
   "execution_count": 21,
   "metadata": {},
   "outputs": [],
   "source": [
    "#I tought that (as one tutorial have shown) my one hot variables will be named \n",
    "#\"Col_<No. of given column>_<categorical variable>\", so I wanted to make sure\n",
    "#that their names will be easy to read. 😅\n",
    "\n",
    "# for name in data_strings:\n",
    "#     for i in wip_data_df.index:\n",
    "#         wip_data_df[name][i] = wip_data_df[name][i] + name\n",
    "# print(wip_data_df)\n"
   ]
  },
  {
   "cell_type": "code",
   "execution_count": 18,
   "metadata": {},
   "outputs": [],
   "source": [
    "dummies = pd.get_dummies(wip_data_df)"
   ]
  },
  {
   "cell_type": "code",
   "execution_count": 50,
   "metadata": {},
   "outputs": [],
   "source": [
    "columns = set(dummies.columns)\n",
    "# print(to_delete)\n",
    "# print(columns.intersection(to_delete))\n",
    "# print(columns.intersection(to_delete) == to_delete)\n",
    "# They are the same :D\n",
    "dummies.drop(to_delete, axis=1, inplace=True)"
   ]
  },
  {
   "cell_type": "code",
   "execution_count": null,
   "metadata": {},
   "outputs": [],
   "source": []
  }
 ],
 "metadata": {
  "interpreter": {
   "hash": "685e5fa90de4fc49033e43d12099b10f880e5131eaa560a366fef33187d80bd3"
  },
  "kernelspec": {
   "display_name": "Python 3.9.6 64-bit",
   "language": "python",
   "name": "python3"
  },
  "language_info": {
   "codemirror_mode": {
    "name": "ipython",
    "version": 3
   },
   "file_extension": ".py",
   "mimetype": "text/x-python",
   "name": "python",
   "nbconvert_exporter": "python",
   "pygments_lexer": "ipython3",
   "version": "3.9.6"
  },
  "orig_nbformat": 4
 },
 "nbformat": 4,
 "nbformat_minor": 2
}
